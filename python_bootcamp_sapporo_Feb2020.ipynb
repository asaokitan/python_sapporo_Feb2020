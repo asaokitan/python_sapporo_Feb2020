{
 "cells": [
  {
   "cell_type": "markdown",
   "metadata": {},
   "source": [
    "# Pythonブートキャンプ@札幌 (Feb 2020) ノート"
   ]
  },
  {
   "cell_type": "markdown",
   "metadata": {
    "collapsed": true
   },
   "source": [
    "この文書は、主にプログラミング初心者の文系研究者を対象にした Python 講習会用のノートです。"
   ]
  },
  {
   "cell_type": "markdown",
   "metadata": {},
   "source": [
    "## 1 テキストファイル\n",
    "\n",
    "* テキストファイルとバイナリファイル\n",
    "* テキストエディタと文書作成ソフト\n",
    "\n",
    "### 文字コード\n",
    "\n",
    "* ASCII\n",
    "* utf-8\n",
    "* EUC-JP, JIS, Shift_JIS\n",
    "\n",
    "### 改行コード\n",
    "\n",
    "* LF\n",
    "* CR\n",
    "* CR+LF"
   ]
  },
  {
   "cell_type": "markdown",
   "metadata": {},
   "source": [
    "## 2 スクリプト言語\n",
    "\n",
    "* Perl, Ruby, Python\n",
    "* OS を選ばない\n",
    "* 数行程度の簡単なコードを書いて「使い捨て」するのに向いている\n",
    "* しかし今では大規模なシステムにも使われている"
   ]
  },
  {
   "cell_type": "markdown",
   "metadata": {},
   "source": [
    "## 3 電卓として使う\n",
    "\n",
    "### Pythonの起動\n",
    "\n",
    "* Windows の場合: メニューから Python (command line) を選択\n",
    "* Macの場合: ターミナルを起動して python と入力。\n",
    "\n",
    "画面左に >>> と表示されていたら、Python が無事起動し、入力待ちの状態になったことを表します"
   ]
  },
  {
   "cell_type": "markdown",
   "metadata": {},
   "source": [
    "### 電卓として使用"
   ]
  },
  {
   "cell_type": "code",
   "execution_count": 4,
   "metadata": {},
   "outputs": [
    {
     "data": {
      "text/plain": [
       "8"
      ]
     },
     "execution_count": 4,
     "metadata": {},
     "output_type": "execute_result"
    }
   ],
   "source": [
    "3 + 5"
   ]
  },
  {
   "cell_type": "code",
   "execution_count": 5,
   "metadata": {},
   "outputs": [
    {
     "data": {
      "text/plain": [
       "8"
      ]
     },
     "execution_count": 5,
     "metadata": {},
     "output_type": "execute_result"
    }
   ],
   "source": [
    "12 - 4"
   ]
  },
  {
   "cell_type": "code",
   "execution_count": 7,
   "metadata": {},
   "outputs": [
    {
     "data": {
      "text/plain": [
       "20.0"
      ]
     },
     "execution_count": 7,
     "metadata": {},
     "output_type": "execute_result"
    }
   ],
   "source": [
    "(68 - 32) * (5 / 9)   # 華氏68度を摂氏で"
   ]
  },
  {
   "cell_type": "code",
   "execution_count": 8,
   "metadata": {},
   "outputs": [
    {
     "data": {
      "text/plain": [
       "364"
      ]
     },
     "execution_count": 8,
     "metadata": {},
     "output_type": "execute_result"
    }
   ],
   "source": [
    "2364 % 1000   # 余り"
   ]
  },
  {
   "cell_type": "code",
   "execution_count": 9,
   "metadata": {},
   "outputs": [
    {
     "data": {
      "text/plain": [
       "2"
      ]
     },
     "execution_count": 9,
     "metadata": {},
     "output_type": "execute_result"
    }
   ],
   "source": [
    "2364 // 1000   # 小数点以下切り捨て"
   ]
  },
  {
   "cell_type": "markdown",
   "metadata": {},
   "source": [
    "### Pythonの終了\n",
    "\n",
    "Ctrl+D"
   ]
  },
  {
   "cell_type": "markdown",
   "metadata": {},
   "source": [
    "## 4 変数\n",
    "\n",
    "* 変数はふつうアルファベットで始める\n",
    "* 大文字と小文字は区別される (a と A は無関係な別の名前)\n",
    "* アンダースコア (\\_) や数字も使える\n",
    "* よい名前の例: t, temperature, japan_temp, temp2"
   ]
  },
  {
   "cell_type": "markdown",
   "metadata": {},
   "source": [
    "### 代入"
   ]
  },
  {
   "cell_type": "code",
   "execution_count": 23,
   "metadata": {
    "collapsed": true
   },
   "outputs": [],
   "source": [
    "a = 3  # 代入。結果は何も表示されない"
   ]
  },
  {
   "cell_type": "code",
   "execution_count": 24,
   "metadata": {},
   "outputs": [
    {
     "data": {
      "text/plain": [
       "3"
      ]
     },
     "execution_count": 24,
     "metadata": {},
     "output_type": "execute_result"
    }
   ],
   "source": [
    "a"
   ]
  },
  {
   "cell_type": "code",
   "execution_count": 25,
   "metadata": {
    "collapsed": true
   },
   "outputs": [],
   "source": [
    "b = a"
   ]
  },
  {
   "cell_type": "code",
   "execution_count": 26,
   "metadata": {},
   "outputs": [
    {
     "data": {
      "text/plain": [
       "3"
      ]
     },
     "execution_count": 26,
     "metadata": {},
     "output_type": "execute_result"
    }
   ],
   "source": [
    "b"
   ]
  },
  {
   "cell_type": "code",
   "execution_count": 30,
   "metadata": {
    "collapsed": true
   },
   "outputs": [],
   "source": [
    "a = 10"
   ]
  },
  {
   "cell_type": "code",
   "execution_count": 31,
   "metadata": {},
   "outputs": [
    {
     "data": {
      "text/plain": [
       "10"
      ]
     },
     "execution_count": 31,
     "metadata": {},
     "output_type": "execute_result"
    }
   ],
   "source": [
    "a"
   ]
  },
  {
   "cell_type": "code",
   "execution_count": 32,
   "metadata": {},
   "outputs": [
    {
     "data": {
      "text/plain": [
       "3"
      ]
     },
     "execution_count": 32,
     "metadata": {},
     "output_type": "execute_result"
    }
   ],
   "source": [
    "b"
   ]
  },
  {
   "cell_type": "code",
   "execution_count": 33,
   "metadata": {
    "collapsed": true
   },
   "outputs": [],
   "source": [
    "c = 0\n",
    "c = c + 1"
   ]
  },
  {
   "cell_type": "code",
   "execution_count": 34,
   "metadata": {},
   "outputs": [
    {
     "data": {
      "text/plain": [
       "1"
      ]
     },
     "execution_count": 34,
     "metadata": {},
     "output_type": "execute_result"
    }
   ],
   "source": [
    "c"
   ]
  },
  {
   "cell_type": "code",
   "execution_count": 35,
   "metadata": {
    "collapsed": true
   },
   "outputs": [],
   "source": [
    "c = c + 1"
   ]
  },
  {
   "cell_type": "code",
   "execution_count": 36,
   "metadata": {},
   "outputs": [
    {
     "data": {
      "text/plain": [
       "2"
      ]
     },
     "execution_count": 36,
     "metadata": {},
     "output_type": "execute_result"
    }
   ],
   "source": [
    "c"
   ]
  },
  {
   "cell_type": "code",
   "execution_count": 37,
   "metadata": {
    "collapsed": true
   },
   "outputs": [],
   "source": [
    "c += 1  # 上の c = c + 1 と同じ意味"
   ]
  },
  {
   "cell_type": "code",
   "execution_count": 38,
   "metadata": {},
   "outputs": [
    {
     "data": {
      "text/plain": [
       "3"
      ]
     },
     "execution_count": 38,
     "metadata": {},
     "output_type": "execute_result"
    }
   ],
   "source": [
    "c"
   ]
  },
  {
   "cell_type": "code",
   "execution_count": 40,
   "metadata": {},
   "outputs": [
    {
     "data": {
      "text/plain": [
       "20.0"
      ]
     },
     "execution_count": 40,
     "metadata": {},
     "output_type": "execute_result"
    }
   ],
   "source": [
    "temp = 68\n",
    "(temp - 32) * (5 / 9)"
   ]
  },
  {
   "cell_type": "code",
   "execution_count": 41,
   "metadata": {},
   "outputs": [
    {
     "data": {
      "text/plain": [
       "2178.6000000000004"
      ]
     },
     "execution_count": 41,
     "metadata": {},
     "output_type": "execute_result"
    }
   ],
   "source": [
    "my_dollar = 20\n",
    "rate = 108.93\n",
    "my_dollar * rate"
   ]
  },
  {
   "cell_type": "markdown",
   "metadata": {},
   "source": [
    "## 5 文字列を扱う"
   ]
  },
  {
   "cell_type": "code",
   "execution_count": 11,
   "metadata": {},
   "outputs": [
    {
     "data": {
      "text/plain": [
       "'dog'"
      ]
     },
     "execution_count": 11,
     "metadata": {},
     "output_type": "execute_result"
    }
   ],
   "source": [
    "'dog'"
   ]
  },
  {
   "cell_type": "code",
   "execution_count": 12,
   "metadata": {},
   "outputs": [
    {
     "data": {
      "text/plain": [
       "'犬'"
      ]
     },
     "execution_count": 12,
     "metadata": {},
     "output_type": "execute_result"
    }
   ],
   "source": [
    "'犬'"
   ]
  },
  {
   "cell_type": "code",
   "execution_count": 13,
   "metadata": {},
   "outputs": [
    {
     "data": {
      "text/plain": [
       "'白い犬'"
      ]
     },
     "execution_count": 13,
     "metadata": {},
     "output_type": "execute_result"
    }
   ],
   "source": [
    "'白い' + '犬'   # 文字列連結"
   ]
  },
  {
   "cell_type": "code",
   "execution_count": 14,
   "metadata": {},
   "outputs": [
    {
     "data": {
      "text/plain": [
       "24"
      ]
     },
     "execution_count": 14,
     "metadata": {},
     "output_type": "execute_result"
    }
   ],
   "source": [
    "len('disestablishmentarianism')  # 文字列の長さ"
   ]
  },
  {
   "cell_type": "code",
   "execution_count": 36,
   "metadata": {},
   "outputs": [
    {
     "data": {
      "text/plain": [
       "'John Smith'"
      ]
     },
     "execution_count": 36,
     "metadata": {},
     "output_type": "execute_result"
    }
   ],
   "source": [
    "last_name = 'Smith'  # 文字列を変数に入れる\n",
    "first_name = 'John'\n",
    "first_name + ' ' + last_name"
   ]
  },
  {
   "cell_type": "code",
   "execution_count": 37,
   "metadata": {},
   "outputs": [
    {
     "data": {
      "text/plain": [
       "'Smith, John'"
      ]
     },
     "execution_count": 37,
     "metadata": {},
     "output_type": "execute_result"
    }
   ],
   "source": [
    "last_name + ', ' + first_name"
   ]
  },
  {
   "cell_type": "markdown",
   "metadata": {},
   "source": [
    "### 数値と文字列の区別"
   ]
  },
  {
   "cell_type": "code",
   "execution_count": 16,
   "metadata": {},
   "outputs": [
    {
     "ename": "TypeError",
     "evalue": "unsupported operand type(s) for +: 'int' and 'str'",
     "output_type": "error",
     "traceback": [
      "\u001b[0;31m---------------------------------------------------------------------------\u001b[0m",
      "\u001b[0;31mTypeError\u001b[0m                                 Traceback (most recent call last)",
      "\u001b[0;32m<ipython-input-16-bcf547ffd6a3>\u001b[0m in \u001b[0;36m<module>\u001b[0;34m()\u001b[0m\n\u001b[0;32m----> 1\u001b[0;31m \u001b[0;36m3\u001b[0m \u001b[0;34m+\u001b[0m \u001b[0;34m'2'\u001b[0m  \u001b[0;31m# 数値と文字列は違うので解釈できない\u001b[0m\u001b[0;34m\u001b[0m\u001b[0m\n\u001b[0m",
      "\u001b[0;31mTypeError\u001b[0m: unsupported operand type(s) for +: 'int' and 'str'"
     ]
    }
   ],
   "source": [
    "3 + '2'  # 数値と文字列は違うので解釈できない。エラーがでます"
   ]
  },
  {
   "cell_type": "code",
   "execution_count": 17,
   "metadata": {},
   "outputs": [
    {
     "data": {
      "text/plain": [
       "2"
      ]
     },
     "execution_count": 17,
     "metadata": {},
     "output_type": "execute_result"
    }
   ],
   "source": [
    "int('2') # 文字列を数値に変換（整数）"
   ]
  },
  {
   "cell_type": "code",
   "execution_count": 18,
   "metadata": {},
   "outputs": [
    {
     "data": {
      "text/plain": [
       "'2'"
      ]
     },
     "execution_count": 18,
     "metadata": {},
     "output_type": "execute_result"
    }
   ],
   "source": [
    "str(2) # 数値を文字列に変換"
   ]
  },
  {
   "cell_type": "markdown",
   "metadata": {},
   "source": [
    "### インデクシングとスライシング"
   ]
  },
  {
   "cell_type": "code",
   "execution_count": 43,
   "metadata": {
    "collapsed": true
   },
   "outputs": [],
   "source": [
    "word = 'sapporo'"
   ]
  },
  {
   "cell_type": "code",
   "execution_count": 44,
   "metadata": {},
   "outputs": [
    {
     "data": {
      "text/plain": [
       "'s'"
      ]
     },
     "execution_count": 44,
     "metadata": {},
     "output_type": "execute_result"
    }
   ],
   "source": [
    "word[0]"
   ]
  },
  {
   "cell_type": "code",
   "execution_count": 45,
   "metadata": {},
   "outputs": [
    {
     "data": {
      "text/plain": [
       "'a'"
      ]
     },
     "execution_count": 45,
     "metadata": {},
     "output_type": "execute_result"
    }
   ],
   "source": [
    "word[1]"
   ]
  },
  {
   "cell_type": "code",
   "execution_count": 46,
   "metadata": {},
   "outputs": [
    {
     "data": {
      "text/plain": [
       "'r'"
      ]
     },
     "execution_count": 46,
     "metadata": {},
     "output_type": "execute_result"
    }
   ],
   "source": [
    "word[5]"
   ]
  },
  {
   "cell_type": "code",
   "execution_count": 47,
   "metadata": {},
   "outputs": [
    {
     "data": {
      "text/plain": [
       "'o'"
      ]
     },
     "execution_count": 47,
     "metadata": {},
     "output_type": "execute_result"
    }
   ],
   "source": [
    "word[-1]"
   ]
  },
  {
   "cell_type": "code",
   "execution_count": 49,
   "metadata": {},
   "outputs": [
    {
     "data": {
      "text/plain": [
       "'sap'"
      ]
     },
     "execution_count": 49,
     "metadata": {},
     "output_type": "execute_result"
    }
   ],
   "source": [
    "word[0:3]"
   ]
  },
  {
   "cell_type": "code",
   "execution_count": 50,
   "metadata": {},
   "outputs": [
    {
     "data": {
      "text/plain": [
       "'sap'"
      ]
     },
     "execution_count": 50,
     "metadata": {},
     "output_type": "execute_result"
    }
   ],
   "source": [
    "word[:3]"
   ]
  },
  {
   "cell_type": "code",
   "execution_count": 51,
   "metadata": {},
   "outputs": [
    {
     "data": {
      "text/plain": [
       "'oro'"
      ]
     },
     "execution_count": 51,
     "metadata": {},
     "output_type": "execute_result"
    }
   ],
   "source": [
    "word[-3:]"
   ]
  },
  {
   "cell_type": "code",
   "execution_count": 52,
   "metadata": {},
   "outputs": [
    {
     "data": {
      "text/plain": [
       "'spoo'"
      ]
     },
     "execution_count": 52,
     "metadata": {},
     "output_type": "execute_result"
    }
   ],
   "source": [
    "word[::2]"
   ]
  },
  {
   "cell_type": "markdown",
   "metadata": {},
   "source": [
    "### 大文字と小文字の変換"
   ]
  },
  {
   "cell_type": "code",
   "execution_count": 2,
   "metadata": {
    "collapsed": true
   },
   "outputs": [],
   "source": [
    "sentence = 'ThiS iS A Pen.'"
   ]
  },
  {
   "cell_type": "code",
   "execution_count": 3,
   "metadata": {},
   "outputs": [
    {
     "data": {
      "text/plain": [
       "'this is a pen.'"
      ]
     },
     "execution_count": 3,
     "metadata": {},
     "output_type": "execute_result"
    }
   ],
   "source": [
    "sentence.lower()"
   ]
  },
  {
   "cell_type": "code",
   "execution_count": 4,
   "metadata": {},
   "outputs": [
    {
     "data": {
      "text/plain": [
       "'THIS IS A PEN.'"
      ]
     },
     "execution_count": 4,
     "metadata": {},
     "output_type": "execute_result"
    }
   ],
   "source": [
    "sentence.upper()"
   ]
  },
  {
   "cell_type": "markdown",
   "metadata": {},
   "source": [
    "### 文字列の置換"
   ]
  },
  {
   "cell_type": "code",
   "execution_count": 7,
   "metadata": {
    "collapsed": true
   },
   "outputs": [],
   "source": [
    "sentence = 'I have an apple.'"
   ]
  },
  {
   "cell_type": "code",
   "execution_count": 8,
   "metadata": {},
   "outputs": [
    {
     "data": {
      "text/plain": [
       "'I have a pineapple.'"
      ]
     },
     "execution_count": 8,
     "metadata": {},
     "output_type": "execute_result"
    }
   ],
   "source": [
    "sentence.replace('an apple', 'a pineapple')"
   ]
  },
  {
   "cell_type": "code",
   "execution_count": 9,
   "metadata": {},
   "outputs": [
    {
     "data": {
      "text/plain": [
       "'I have an apple'"
      ]
     },
     "execution_count": 9,
     "metadata": {},
     "output_type": "execute_result"
    }
   ],
   "source": [
    "sentence.replace('.', '')"
   ]
  },
  {
   "cell_type": "code",
   "execution_count": 12,
   "metadata": {},
   "outputs": [
    {
     "data": {
      "text/plain": [
       "'理系の文章だと、日本語でもカンマとピリオドを使っていたりしますね。'"
      ]
     },
     "execution_count": 12,
     "metadata": {},
     "output_type": "execute_result"
    }
   ],
   "source": [
    "sentence = '理系の文章だと，日本語でもカンマとピリオドを使っていたりしますね．'\n",
    "sentence = sentence.replace('，','、')\n",
    "sentence = sentence.replace('．','。')\n",
    "sentence"
   ]
  },
  {
   "cell_type": "markdown",
   "metadata": {},
   "source": [
    "* 進んだ内容: format()"
   ]
  },
  {
   "cell_type": "markdown",
   "metadata": {},
   "source": [
    "## 6 プログラムを保存して使う\n",
    "\n",
    "まとまったプログラムを書くときはエディタを使用し、保存してから実行する。拡張子は .py\n",
    "\n",
    "実行するときは、例えば 06-1.py というファイル名をつけたら、\n",
    "\n",
    "<pre>\n",
    "python 06-1.py\n",
    "</pre>\n",
    "\n",
    "と書く。"
   ]
  },
  {
   "cell_type": "code",
   "execution_count": 20,
   "metadata": {},
   "outputs": [
    {
     "name": "stdout",
     "output_type": "stream",
     "text": [
      "東海の小島の磯の白砂に\n",
      "われ泣きぬれて\n",
      "蟹とたはむる\n"
     ]
    }
   ],
   "source": [
    "# 06-1.py\n",
    "# 例: ファイルの中身を表示する\n",
    "for line in open('ichiakuno_suna_kani.txt'):\n",
    "    line = line.rstrip()\n",
    "    print(line)"
   ]
  },
  {
   "cell_type": "markdown",
   "metadata": {},
   "source": [
    "print() は、そのままでは結果は画面に表示される。結果をファイルに保存するときは、 > を用いたリダイレクトが有用。\n",
    "\n",
    "結果を画面に表示する場合\n",
    "\n",
    "<pre>\n",
    "python 06-1.py\n",
    "</pre>\n",
    "\n",
    "結果をファイルに保存する場合。\n",
    "\n",
    "<pre>\n",
    "python 06-1.py > result.txt\n",
    "</pre>"
   ]
  },
  {
   "cell_type": "markdown",
   "metadata": {},
   "source": [
    "## 7 条件分岐"
   ]
  },
  {
   "cell_type": "markdown",
   "metadata": {},
   "source": [
    "基本は if。\n",
    "\n",
    "<pre>\n",
    "if 条件式:\n",
    "</pre>\n",
    "\n",
    "のように書きます。"
   ]
  },
  {
   "cell_type": "code",
   "execution_count": 63,
   "metadata": {},
   "outputs": [
    {
     "name": "stdout",
     "output_type": "stream",
     "text": [
      "寒いです\n"
     ]
    }
   ],
   "source": [
    "temp = -3\n",
    "if temp < 5:\n",
    "    print('寒いです')"
   ]
  },
  {
   "cell_type": "markdown",
   "metadata": {},
   "source": [
    "### 条件式"
   ]
  },
  {
   "cell_type": "code",
   "execution_count": 15,
   "metadata": {
    "collapsed": true
   },
   "outputs": [],
   "source": [
    "n = 10"
   ]
  },
  {
   "cell_type": "code",
   "execution_count": 16,
   "metadata": {},
   "outputs": [
    {
     "data": {
      "text/plain": [
       "True"
      ]
     },
     "execution_count": 16,
     "metadata": {},
     "output_type": "execute_result"
    }
   ],
   "source": [
    "n < 100"
   ]
  },
  {
   "cell_type": "code",
   "execution_count": 17,
   "metadata": {},
   "outputs": [
    {
     "data": {
      "text/plain": [
       "False"
      ]
     },
     "execution_count": 17,
     "metadata": {},
     "output_type": "execute_result"
    }
   ],
   "source": [
    "n > 10"
   ]
  },
  {
   "cell_type": "code",
   "execution_count": 18,
   "metadata": {},
   "outputs": [
    {
     "data": {
      "text/plain": [
       "True"
      ]
     },
     "execution_count": 18,
     "metadata": {},
     "output_type": "execute_result"
    }
   ],
   "source": [
    "n >= 10"
   ]
  },
  {
   "cell_type": "code",
   "execution_count": 19,
   "metadata": {},
   "outputs": [
    {
     "data": {
      "text/plain": [
       "True"
      ]
     },
     "execution_count": 19,
     "metadata": {},
     "output_type": "execute_result"
    }
   ],
   "source": [
    "5 < n < 20"
   ]
  },
  {
   "cell_type": "code",
   "execution_count": 20,
   "metadata": {},
   "outputs": [
    {
     "data": {
      "text/plain": [
       "True"
      ]
     },
     "execution_count": 20,
     "metadata": {},
     "output_type": "execute_result"
    }
   ],
   "source": [
    "n == 10"
   ]
  },
  {
   "cell_type": "code",
   "execution_count": 52,
   "metadata": {},
   "outputs": [
    {
     "data": {
      "text/plain": [
       "True"
      ]
     },
     "execution_count": 52,
     "metadata": {},
     "output_type": "execute_result"
    }
   ],
   "source": [
    "n != 4"
   ]
  },
  {
   "cell_type": "code",
   "execution_count": 2,
   "metadata": {},
   "outputs": [],
   "source": [
    "sentence = 'いづれの御時にか、女御、更衣あまた候ひ給ひける中に、いとやむごとなき際にはあらぬが、すぐれて時めき給ふありけり。'"
   ]
  },
  {
   "cell_type": "code",
   "execution_count": 55,
   "metadata": {},
   "outputs": [
    {
     "data": {
      "text/plain": [
       "True"
      ]
     },
     "execution_count": 55,
     "metadata": {},
     "output_type": "execute_result"
    }
   ],
   "source": [
    "'には' in sentence"
   ]
  },
  {
   "cell_type": "code",
   "execution_count": 56,
   "metadata": {},
   "outputs": [
    {
     "data": {
      "text/plain": [
       "False"
      ]
     },
     "execution_count": 56,
     "metadata": {},
     "output_type": "execute_result"
    }
   ],
   "source": [
    "'源氏' in sentence"
   ]
  },
  {
   "cell_type": "code",
   "execution_count": 57,
   "metadata": {},
   "outputs": [
    {
     "data": {
      "text/plain": [
       "True"
      ]
     },
     "execution_count": 57,
     "metadata": {},
     "output_type": "execute_result"
    }
   ],
   "source": [
    "sentence.startswith('い')"
   ]
  },
  {
   "cell_type": "code",
   "execution_count": 58,
   "metadata": {},
   "outputs": [
    {
     "data": {
      "text/plain": [
       "False"
      ]
     },
     "execution_count": 58,
     "metadata": {},
     "output_type": "execute_result"
    }
   ],
   "source": [
    "sentence.endswith('り')"
   ]
  },
  {
   "cell_type": "markdown",
   "metadata": {},
   "source": [
    "### and と or"
   ]
  },
  {
   "cell_type": "code",
   "execution_count": 3,
   "metadata": {},
   "outputs": [
    {
     "data": {
      "text/plain": [
       "True"
      ]
     },
     "execution_count": 3,
     "metadata": {},
     "output_type": "execute_result"
    }
   ],
   "source": [
    "'女御' in sentence and '更衣' in sentence"
   ]
  },
  {
   "cell_type": "code",
   "execution_count": 4,
   "metadata": {},
   "outputs": [
    {
     "data": {
      "text/plain": [
       "False"
      ]
     },
     "execution_count": 4,
     "metadata": {},
     "output_type": "execute_result"
    }
   ],
   "source": [
    "len(sentence) < 5 or 100 < len(sentence)"
   ]
  },
  {
   "cell_type": "markdown",
   "metadata": {},
   "source": [
    "### if, else, elif"
   ]
  },
  {
   "cell_type": "code",
   "execution_count": 26,
   "metadata": {},
   "outputs": [
    {
     "name": "stdout",
     "output_type": "stream",
     "text": [
      "暑いです\n"
     ]
    }
   ],
   "source": [
    "temp = 33\n",
    "if temp < 5:\n",
    "    print('寒いです')\n",
    "elif temp > 25:\n",
    "    print('暑いです')\n",
    "else:\n",
    "    print('ちょうどいいです')"
   ]
  },
  {
   "cell_type": "markdown",
   "metadata": {
    "collapsed": true
   },
   "source": [
    "### if を用いて、条件に合う行だけを表示するプログラムを書く"
   ]
  },
  {
   "cell_type": "code",
   "execution_count": 59,
   "metadata": {},
   "outputs": [
    {
     "name": "stdout",
     "output_type": "stream",
     "text": [
      "東海の小島の磯の白砂に\n",
      "大海にむかひて一人\n",
      "水を吸ひたる海綿の\n",
      "かの航海の船客の一人にてありき\n",
      "堅くかわける海綿を見る\n",
      "津軽の海を思へば\n",
      "釧路の海の冬の月かな\n",
      "ゆゑもなく海が見たくて\n",
      "海に来ぬ\n",
      "たひらなる海につかれて\n",
      "大海の\n"
     ]
    }
   ],
   "source": [
    "# 06-1.py\n",
    "# 例: 「海」という文字が含まれる行だけ表示する\n",
    "for line in open('ichiakuno_suna.txt'):\n",
    "    line = line.rstrip()\n",
    "    \n",
    "    if '海' in line:\n",
    "        print(line)"
   ]
  },
  {
   "cell_type": "markdown",
   "metadata": {
    "collapsed": true
   },
   "source": [
    "+ **練習** 「て」で終わる行だけ表示してください\n",
    "+ **練習** 文字数が7文字の行だけ表示してください"
   ]
  },
  {
   "cell_type": "markdown",
   "metadata": {},
   "source": [
    "## 8 ループの制御"
   ]
  },
  {
   "cell_type": "markdown",
   "metadata": {
    "collapsed": true
   },
   "source": [
    "### continue\n",
    "\n",
    "continue は、ループをその回はそこで終わりにし、次に行きます。"
   ]
  },
  {
   "cell_type": "code",
   "execution_count": 21,
   "metadata": {},
   "outputs": [
    {
     "name": "stdout",
     "output_type": "stream",
     "text": [
      "'Twas brillig, and the slithy toves\n",
      "Did gyre and gimble in the wabe;\n",
      "All mimsy were the borogoves,\n",
      "And the mome raths outgrabe.\n",
      "\"Beware the Jabberwock, my son!\n",
      "The jaws that bite, the claws that catch!\n",
      "Beware the Jubjub bird, and shun\n",
      "The frumious Bandersnatch!\"\n",
      "He took his vorpal sword in hand:\n",
      "Long time the manxome foe he sought--\n",
      "So rested he by the Tumtum tree,\n",
      "And stood awhile in thought.\n",
      "And as in uffish thought he stood,\n",
      "The Jabberwock, with eyes of flame,\n",
      "Came whiffling through the tulgey wood,\n",
      "And burbled as it came!\n",
      "One, two! One, two! And through and through\n",
      "The vorpal blade went snicker-snack!\n",
      "He left it dead, and with its head\n",
      "He went galumphing back.\n",
      "\"And hast thou slain the Jabberwock?\n",
      "Come to my arms, my beamish boy!\n",
      "O frabjous day! Callooh! Callay!\"\n",
      "He chortled in his joy.\n",
      "'Twas brillig, and the slithy toves\n",
      "Did gyre and gimble in the wabe;\n",
      "All mimsy were the borogoves,\n",
      "And the mome raths outgrabe.\n"
     ]
    }
   ],
   "source": [
    "# 08-1.py\n",
    "# 例: ファイルの中身を表示する。ただし、空白行は飛ばす\n",
    "for line in open('jabberwocky.txt'):\n",
    "    line = line.rstrip()\n",
    "    \n",
    "    if line == '':\n",
    "        continue\n",
    "    \n",
    "    print(line)"
   ]
  },
  {
   "cell_type": "markdown",
   "metadata": {
    "collapsed": true
   },
   "source": [
    "### break\n",
    "\n",
    "break は、そこでループ自体を終了します。"
   ]
  },
  {
   "cell_type": "code",
   "execution_count": 50,
   "metadata": {},
   "outputs": [
    {
     "name": "stdout",
     "output_type": "stream",
     "text": [
      "一握の砂\n",
      "石川啄木\n",
      "\n",
      "函館なる郁雨宮崎大四郎君\n",
      "同国の友文学士花明金田一京助君\n",
      "\n",
      "この集を両君に捧ぐ。予はすでに予のすべてを両君の前に示しつくしたるものの如し。従つて両君はここに歌はれたる歌の一一につきて最も多く知るの人なるを信ずればなり。\n",
      "また一本をとりて亡児真一に手向く。この集の稿本を書肆の手に渡したるは汝の生れたる朝なりき。この集の稿料は汝の薬餌となりたり。而してこの集の見本刷を予の閲したるは汝の火葬の夜なりき。\n",
      "著者\n",
      "\n",
      "明治四十一年夏以後の作一千余首中より五百五十一首を抜きてこの集に収む。集中五章、感興の来由するところ相邇きをたづねて仮にわかてるのみ。「秋風のこころよさに」は明治四十一年秋の紀念なり。\n",
      "\n",
      "我を愛する歌\n",
      "\n",
      "東海の小島の磯の白砂に\n",
      "われ泣きぬれて\n",
      "蟹とたはむる\n"
     ]
    }
   ],
   "source": [
    "# 08-2.py\n",
    "# 例: ファイルの中身を表示する。ただし、「蟹とたはむる」が出たらそこで終了する\n",
    "\n",
    "for line in open('ichiakuno_suna.txt'):\n",
    "    line = line.rstrip()\n",
    "    \n",
    "    print(line)\n",
    "        \n",
    "    if line == '蟹とたはむる':\n",
    "        break"
   ]
  },
  {
   "cell_type": "markdown",
   "metadata": {
    "collapsed": true
   },
   "source": [
    "### フラグとカウンタ\n",
    "\n",
    "フラグとカウンタは、特別な機能ではありませんが、変数を使ったテクニックとして基本的です。"
   ]
  },
  {
   "cell_type": "code",
   "execution_count": 65,
   "metadata": {},
   "outputs": [
    {
     "name": "stdout",
     "output_type": "stream",
     "text": [
      "猫はいませんでした。残念\n"
     ]
    }
   ],
   "source": [
    "# 08-3.py\n",
    "# 例: フラグを使って、ファイルを最後まで読み、「猫」という文字が出てきたかどうかを報告する\n",
    "\n",
    "we_found_cat = False\n",
    "for line in open('ichiakuno_suna.txt'):\n",
    "    line = line.rstrip()\n",
    "    \n",
    "    if '猫' in line:\n",
    "        we_found_cat = True\n",
    "\n",
    "if we_found_cat:\n",
    "    print('猫がいました！')\n",
    "else:\n",
    "    print('猫はいませんでした。残念')"
   ]
  },
  {
   "cell_type": "markdown",
   "metadata": {},
   "source": [
    "+ **練習** 「犬」が出てきたらその行の内容を表示してください。「犬」が一度も出てこなかったら、「犬はいませんでした」と表示してください。"
   ]
  },
  {
   "cell_type": "code",
   "execution_count": 22,
   "metadata": {},
   "outputs": [
    {
     "name": "stdout",
     "output_type": "stream",
     "text": [
      "1 'Twas brillig, and the slithy toves\n",
      "2 Did gyre and gimble in the wabe;\n",
      "3 All mimsy were the borogoves,\n",
      "4 And the mome raths outgrabe.\n",
      "5 \n",
      "6 \"Beware the Jabberwock, my son!\n",
      "7 The jaws that bite, the claws that catch!\n",
      "8 Beware the Jubjub bird, and shun\n",
      "9 The frumious Bandersnatch!\"\n",
      "10 \n",
      "11 He took his vorpal sword in hand:\n",
      "12 Long time the manxome foe he sought--\n",
      "13 So rested he by the Tumtum tree,\n",
      "14 And stood awhile in thought.\n",
      "15 \n",
      "16 And as in uffish thought he stood,\n",
      "17 The Jabberwock, with eyes of flame,\n",
      "18 Came whiffling through the tulgey wood,\n",
      "19 And burbled as it came!\n",
      "20 \n",
      "21 One, two! One, two! And through and through\n",
      "22 The vorpal blade went snicker-snack!\n",
      "23 He left it dead, and with its head\n",
      "24 He went galumphing back.\n",
      "25 \n",
      "26 \"And hast thou slain the Jabberwock?\n",
      "27 Come to my arms, my beamish boy!\n",
      "28 O frabjous day! Callooh! Callay!\"\n",
      "29 He chortled in his joy.\n",
      "30 \n",
      "31 'Twas brillig, and the slithy toves\n",
      "32 Did gyre and gimble in the wabe;\n",
      "33 All mimsy were the borogoves,\n",
      "34 And the mome raths outgrabe.\n"
     ]
    }
   ],
   "source": [
    "# 08-4.py\n",
    "# 例: カウンタを使って、行番号を表示する\n",
    "counter = 0\n",
    "for line in open('jabberwocky.txt'):\n",
    "    line = line.rstrip()\n",
    "    \n",
    "    counter = counter + 1\n",
    "    \n",
    "    line = str(counter) + ' ' + line\n",
    "    \n",
    "    print(line)"
   ]
  },
  {
   "cell_type": "markdown",
   "metadata": {},
   "source": [
    "+ **練習** 最初の5行を表示したところで終了してください。\n",
    "+ **練習** 13行目だけ表示してください。"
   ]
  },
  {
   "cell_type": "code",
   "execution_count": 60,
   "metadata": {},
   "outputs": [
    {
     "name": "stdout",
     "output_type": "stream",
     "text": [
      "563\n"
     ]
    }
   ],
   "source": [
    "# 08-5.py\n",
    "# 例: カウンタを使って、何も書いていない行がいくつあるかを数えて表示する\n",
    "counter = 0\n",
    "for line in open('ichiakuno_suna.txt'):\n",
    "    line = line.rstrip()\n",
    "    \n",
    "    if line == '':\n",
    "        counter = counter + 1\n",
    "        \n",
    "print(counter)"
   ]
  },
  {
   "cell_type": "markdown",
   "metadata": {},
   "source": [
    "* 進んだ内容: enumerate()"
   ]
  },
  {
   "cell_type": "markdown",
   "metadata": {},
   "source": [
    "## 9 リスト"
   ]
  },
  {
   "cell_type": "code",
   "execution_count": 31,
   "metadata": {
    "collapsed": true
   },
   "outputs": [],
   "source": [
    "seasons = ['spring','summer','fall','winter']"
   ]
  },
  {
   "cell_type": "code",
   "execution_count": 32,
   "metadata": {},
   "outputs": [
    {
     "data": {
      "text/plain": [
       "'spring'"
      ]
     },
     "execution_count": 32,
     "metadata": {},
     "output_type": "execute_result"
    }
   ],
   "source": [
    "seasons[0]"
   ]
  },
  {
   "cell_type": "code",
   "execution_count": 33,
   "metadata": {},
   "outputs": [
    {
     "data": {
      "text/plain": [
       "'fall'"
      ]
     },
     "execution_count": 33,
     "metadata": {},
     "output_type": "execute_result"
    }
   ],
   "source": [
    "seasons[2]"
   ]
  },
  {
   "cell_type": "code",
   "execution_count": 34,
   "metadata": {},
   "outputs": [
    {
     "data": {
      "text/plain": [
       "['spring', 'summer']"
      ]
     },
     "execution_count": 34,
     "metadata": {},
     "output_type": "execute_result"
    }
   ],
   "source": [
    "seasons[:2]"
   ]
  },
  {
   "cell_type": "code",
   "execution_count": 35,
   "metadata": {},
   "outputs": [
    {
     "data": {
      "text/plain": [
       "['spring', 'summer', 'autumn', 'winter']"
      ]
     },
     "execution_count": 35,
     "metadata": {},
     "output_type": "execute_result"
    }
   ],
   "source": [
    "seasons[2] = 'autumn'\n",
    "seasons"
   ]
  },
  {
   "cell_type": "code",
   "execution_count": 36,
   "metadata": {},
   "outputs": [
    {
     "name": "stdout",
     "output_type": "stream",
     "text": [
      "spring\n",
      "summer\n",
      "autumn\n",
      "winter\n"
     ]
    }
   ],
   "source": [
    "for s in seasons:\n",
    "    print(s)"
   ]
  },
  {
   "cell_type": "code",
   "execution_count": 37,
   "metadata": {},
   "outputs": [
    {
     "data": {
      "text/plain": [
       "['spring', 'summer', 'autumn', 'winter', 'new year']"
      ]
     },
     "execution_count": 37,
     "metadata": {},
     "output_type": "execute_result"
    }
   ],
   "source": [
    "seasons.append('new year')\n",
    "seasons"
   ]
  },
  {
   "cell_type": "markdown",
   "metadata": {},
   "source": [
    "### 並べ替え"
   ]
  },
  {
   "cell_type": "code",
   "execution_count": 39,
   "metadata": {},
   "outputs": [
    {
     "data": {
      "text/plain": [
       "['autumn', 'new year', 'spring', 'summer', 'winter']"
      ]
     },
     "execution_count": 39,
     "metadata": {},
     "output_type": "execute_result"
    }
   ],
   "source": [
    "seasons.sort()\n",
    "seasons"
   ]
  },
  {
   "cell_type": "code",
   "execution_count": 40,
   "metadata": {},
   "outputs": [
    {
     "data": {
      "text/plain": [
       "['winter', 'summer', 'spring', 'new year', 'autumn']"
      ]
     },
     "execution_count": 40,
     "metadata": {},
     "output_type": "execute_result"
    }
   ],
   "source": [
    "seasons.sort(reverse=True)\n",
    "seasons"
   ]
  },
  {
   "cell_type": "code",
   "execution_count": 42,
   "metadata": {},
   "outputs": [
    {
     "data": {
      "text/plain": [
       "['new year', 'summer', 'spring', 'winter', 'autumn']"
      ]
     },
     "execution_count": 42,
     "metadata": {},
     "output_type": "execute_result"
    }
   ],
   "source": [
    "import random\n",
    "random.shuffle(seasons)\n",
    "seasons"
   ]
  },
  {
   "cell_type": "code",
   "execution_count": 23,
   "metadata": {},
   "outputs": [
    {
     "name": "stdout",
     "output_type": "stream",
     "text": [
      "\"And hast thou slain the Jabberwock?\n",
      "\"Beware the Jabberwock, my son!\n",
      "'Twas brillig, and the slithy toves\n",
      "'Twas brillig, and the slithy toves\n",
      "All mimsy were the borogoves,\n",
      "All mimsy were the borogoves,\n",
      "And as in uffish thought he stood,\n",
      "And burbled as it came!\n",
      "And stood awhile in thought.\n",
      "And the mome raths outgrabe.\n",
      "And the mome raths outgrabe.\n",
      "Beware the Jubjub bird, and shun\n",
      "Came whiffling through the tulgey wood,\n",
      "Come to my arms, my beamish boy!\n",
      "Did gyre and gimble in the wabe;\n",
      "Did gyre and gimble in the wabe;\n",
      "He chortled in his joy.\n",
      "He left it dead, and with its head\n",
      "He took his vorpal sword in hand:\n",
      "He went galumphing back.\n",
      "Long time the manxome foe he sought--\n",
      "O frabjous day! Callooh! Callay!\"\n",
      "One, two! One, two! And through and through\n",
      "So rested he by the Tumtum tree,\n",
      "The Jabberwock, with eyes of flame,\n",
      "The frumious Bandersnatch!\"\n",
      "The jaws that bite, the claws that catch!\n",
      "The vorpal blade went snicker-snack!\n"
     ]
    }
   ],
   "source": [
    "# 09-1.py\n",
    "# リストを使ってファイルの行を並べ替える\n",
    "\n",
    "lines = []\n",
    "for line in open('jabberwocky.txt'):\n",
    "    line = line.rstrip()\n",
    "    \n",
    "    # 空白行は飛ばす\n",
    "    if line == '':\n",
    "        continue\n",
    "    \n",
    "    lines.append(line)\n",
    "\n",
    "lines.sort()\n",
    "for line in lines:\n",
    "    print(line)"
   ]
  },
  {
   "cell_type": "markdown",
   "metadata": {},
   "source": [
    "### 文字列からリストへ、リストから文字列へ (split と join)"
   ]
  },
  {
   "cell_type": "code",
   "execution_count": 45,
   "metadata": {
    "collapsed": true
   },
   "outputs": [],
   "source": [
    "sentence = 'In English, words are separated by whitespaces.'"
   ]
  },
  {
   "cell_type": "code",
   "execution_count": 46,
   "metadata": {},
   "outputs": [
    {
     "data": {
      "text/plain": [
       "['In', 'English,', 'words', 'are', 'separated', 'by', 'whitespaces.']"
      ]
     },
     "execution_count": 46,
     "metadata": {},
     "output_type": "execute_result"
    }
   ],
   "source": [
    "sentence.split(' ')"
   ]
  },
  {
   "cell_type": "code",
   "execution_count": 47,
   "metadata": {},
   "outputs": [
    {
     "name": "stdout",
     "output_type": "stream",
     "text": [
      "are\n",
      "separated\n",
      "whitespaces.\n"
     ]
    }
   ],
   "source": [
    "# eを含む単語を列挙\n",
    "for word in sentence.split(' '):\n",
    "    if 'e' in word:\n",
    "        print(word)"
   ]
  },
  {
   "cell_type": "code",
   "execution_count": 49,
   "metadata": {},
   "outputs": [
    {
     "data": {
      "text/plain": [
       "'Hokkaido Aomori Iwate'"
      ]
     },
     "execution_count": 49,
     "metadata": {},
     "output_type": "execute_result"
    }
   ],
   "source": [
    "prefectures = ['Hokkaido', 'Aomori', 'Iwate']\n",
    "' '.join(prefectures)"
   ]
  },
  {
   "cell_type": "markdown",
   "metadata": {
    "collapsed": true
   },
   "source": [
    "### リストを使ってコーパスから単語リストを作る"
   ]
  },
  {
   "cell_type": "code",
   "execution_count": 24,
   "metadata": {},
   "outputs": [
    {
     "name": "stdout",
     "output_type": "stream",
     "text": [
      "\n",
      "\"And\n",
      "\"Beware\n",
      "'Twas\n",
      "All\n",
      "And\n",
      "Bandersnatch!\"\n",
      "Beware\n",
      "Callay!\"\n",
      "Callooh!\n",
      "Came\n",
      "Come\n",
      "Did\n",
      "He\n",
      "Jabberwock,\n",
      "Jabberwock?\n",
      "Jubjub\n",
      "Long\n",
      "O\n",
      "One,\n",
      "So\n",
      "The\n",
      "Tumtum\n",
      "and\n",
      "arms,\n",
      "as\n",
      "awhile\n",
      "back.\n",
      "beamish\n",
      "bird,\n",
      "bite,\n",
      "blade\n",
      "borogoves,\n",
      "boy!\n",
      "brillig,\n",
      "burbled\n",
      "by\n",
      "came!\n",
      "catch!\n",
      "chortled\n",
      "claws\n",
      "day!\n",
      "dead,\n",
      "eyes\n",
      "flame,\n",
      "foe\n",
      "frabjous\n",
      "frumious\n",
      "galumphing\n",
      "gimble\n",
      "gyre\n",
      "hand:\n",
      "hast\n",
      "he\n",
      "head\n",
      "his\n",
      "in\n",
      "it\n",
      "its\n",
      "jaws\n",
      "joy.\n",
      "left\n",
      "manxome\n",
      "mimsy\n",
      "mome\n",
      "my\n",
      "of\n",
      "outgrabe.\n",
      "raths\n",
      "rested\n",
      "shun\n",
      "slain\n",
      "slithy\n",
      "snicker-snack!\n",
      "son!\n",
      "sought--\n",
      "stood\n",
      "stood,\n",
      "sword\n",
      "that\n",
      "the\n",
      "thou\n",
      "thought\n",
      "thought.\n",
      "through\n",
      "time\n",
      "to\n",
      "took\n",
      "toves\n",
      "tree,\n",
      "tulgey\n",
      "two!\n",
      "uffish\n",
      "vorpal\n",
      "wabe;\n",
      "went\n",
      "were\n",
      "whiffling\n",
      "with\n",
      "wood,\n"
     ]
    }
   ],
   "source": [
    "# 09-2.py\n",
    "# リストを使って、出てきた単語の一覧を作る\n",
    "all_words = []\n",
    "for line in open('jabberwocky.txt'):\n",
    "    line = line.rstrip()\n",
    "    \n",
    "    words = line.split(' ')\n",
    "    \n",
    "    for w in words:\n",
    "        if not w in all_words:\n",
    "            all_words.append(w)\n",
    "\n",
    "all_words.sort()\n",
    "for w in all_words:\n",
    "    print(w)"
   ]
  },
  {
   "cell_type": "code",
   "execution_count": 26,
   "metadata": {},
   "outputs": [
    {
     "name": "stdout",
     "output_type": "stream",
     "text": [
      "So\n",
      "to\n"
     ]
    }
   ],
   "source": [
    "# 09-2.py\n",
    "# リストを使って、ファイルから条件に合う単語を見つける\n",
    "for line in open('jabberwocky.txt'):\n",
    "    line = line.rstrip()\n",
    "    \n",
    "    words = line.split(' ')\n",
    "\n",
    "    for w in words:\n",
    "        if w.endswith('o'):\n",
    "            print(w)"
   ]
  },
  {
   "cell_type": "markdown",
   "metadata": {},
   "source": [
    "* **練習** 上のプログラムは o で終わるすべての単語を拾えていません (ピリオドなどを処理していないため)。ピリオドなどを取り除く処理を追加してください。"
   ]
  },
  {
   "cell_type": "markdown",
   "metadata": {},
   "source": [
    "* 進んだ内容: 内包表記"
   ]
  },
  {
   "cell_type": "markdown",
   "metadata": {
    "collapsed": true
   },
   "source": [
    "### リストを使って表から条件に合う行を見つける"
   ]
  },
  {
   "cell_type": "code",
   "execution_count": 28,
   "metadata": {},
   "outputs": [
    {
     "name": "stdout",
     "output_type": "stream",
     "text": [
      "THAN\n",
      "THAN(1)\n",
      "THAO\n",
      "THAT\n",
      "THAT(1)\n",
      "THAT'D\n",
      "THAT'LL\n",
      "THAT'S\n",
      "THAT'VE\n",
      "THAU\n",
      "THE\n",
      "THE(1)\n",
      "THE(2)\n",
      "THEE\n",
      "THEIR\n",
      "THEIRS\n",
      "THEIRSELF\n",
      "THEIRSELVES\n",
      "THEIS\n",
      "THEM\n",
      "THEM(1)\n",
      "THEMSELF\n",
      "THEMSELF(1)\n",
      "THEMSELVES\n",
      "THEMSELVES(1)\n",
      "THEN\n",
      "THENCE\n",
      "THENCEFORTH\n",
      "THERE\n",
      "THERE'D\n",
      "THERE'LL\n",
      "THERE'RE\n",
      "THERE'S\n",
      "THERE'VE\n",
      "THEREABOUTS\n",
      "THEREAFTER\n",
      "THEREBY\n",
      "THEREFORE\n",
      "THEREIN\n",
      "THEREOF\n",
      "THEREON\n",
      "THEREUPON\n",
      "THESE\n",
      "THESING\n",
      "THEUS\n",
      "THEY\n",
      "THEY'D\n",
      "THEY'LL\n",
      "THEY'RE\n",
      "THEY'VE\n",
      "THINE\n",
      "THIS\n",
      "THIS(1)\n",
      "THIS'LL\n",
      "THIS'LL(1)\n",
      "THO\n",
      "THOMANN\n",
      "THOSE\n",
      "THOU\n",
      "THOUGH\n",
      "THOUS\n",
      "THUR\n",
      "THUS\n",
      "THUSFAR\n",
      "THUSLY\n",
      "THY\n"
     ]
    }
   ],
   "source": [
    "# 09-3.py\n",
    "# CMU辞書を使って、/ð/で始まる単語のリストをつくる\n",
    "\n",
    "for line in open('cmu_dictionary.txt'):\n",
    "    line = line.rstrip()\n",
    "    \n",
    "    if line.startswith(';;;'):\n",
    "        continue\n",
    "    \n",
    "    columns = line.split(' ')\n",
    "    spelling = columns[0]\n",
    "    phonemes = columns[2:]\n",
    "    \n",
    "    if phonemes[0] == 'DH':\n",
    "        print(spelling)"
   ]
  },
  {
   "cell_type": "markdown",
   "metadata": {
    "collapsed": true
   },
   "source": [
    "* **練習** 音素3つから成り、1つめの音素が /k/、3つめの音素が /t/ である単語の一覧を作ってください。"
   ]
  },
  {
   "cell_type": "markdown",
   "metadata": {},
   "source": [
    "## 10 ディクショナリ"
   ]
  },
  {
   "cell_type": "markdown",
   "metadata": {},
   "source": [
    "ディクショナリは「対応表」。"
   ]
  },
  {
   "cell_type": "code",
   "execution_count": 1,
   "metadata": {},
   "outputs": [],
   "source": [
    "en_ja_dict = {'dog': '犬', 'cat': '猫'}"
   ]
  },
  {
   "cell_type": "code",
   "execution_count": 57,
   "metadata": {},
   "outputs": [
    {
     "data": {
      "text/plain": [
       "'犬'"
      ]
     },
     "execution_count": 57,
     "metadata": {},
     "output_type": "execute_result"
    }
   ],
   "source": [
    "en_ja_dict['dog']"
   ]
  },
  {
   "cell_type": "code",
   "execution_count": 59,
   "metadata": {},
   "outputs": [
    {
     "name": "stdout",
     "output_type": "stream",
     "text": [
      "cat\n",
      "猫\n",
      "dog\n",
      "犬\n"
     ]
    }
   ],
   "source": [
    "# ディクショナリの要素を順番に処理する\n",
    "for en_word in en_ja_dict:\n",
    "    print(en_word)\n",
    "    print(en_ja_dict[en_word])"
   ]
  },
  {
   "cell_type": "code",
   "execution_count": 2,
   "metadata": {},
   "outputs": [
    {
     "data": {
      "text/plain": [
       "dict_items([('dog', '犬'), ('cat', '猫')])"
      ]
     },
     "execution_count": 2,
     "metadata": {},
     "output_type": "execute_result"
    }
   ],
   "source": [
    "en_ja_dict.items()"
   ]
  },
  {
   "cell_type": "code",
   "execution_count": 3,
   "metadata": {},
   "outputs": [
    {
     "data": {
      "text/plain": [
       "dict_keys(['dog', 'cat'])"
      ]
     },
     "execution_count": 3,
     "metadata": {},
     "output_type": "execute_result"
    }
   ],
   "source": [
    "en_ja_dict.keys()"
   ]
  },
  {
   "cell_type": "code",
   "execution_count": 4,
   "metadata": {},
   "outputs": [
    {
     "data": {
      "text/plain": [
       "dict_values(['犬', '猫'])"
      ]
     },
     "execution_count": 4,
     "metadata": {},
     "output_type": "execute_result"
    }
   ],
   "source": [
    "en_ja_dict.values()"
   ]
  },
  {
   "cell_type": "markdown",
   "metadata": {},
   "source": [
    "### 頻度表を作る (10-1.py)"
   ]
  },
  {
   "cell_type": "code",
   "execution_count": 30,
   "metadata": {},
   "outputs": [
    {
     "name": "stdout",
     "output_type": "stream",
     "text": [
      "'Twas 2\n",
      "brillig, 2\n",
      "and 7\n",
      "the 15\n",
      "slithy 2\n",
      "toves 2\n",
      "Did 2\n",
      "gyre 2\n",
      "gimble 2\n",
      "in 6\n",
      "wabe; 2\n",
      "All 2\n",
      "mimsy 2\n",
      "were 2\n",
      "borogoves, 2\n",
      "And 6\n",
      "mome 2\n",
      "raths 2\n",
      "outgrabe. 2\n",
      "\"Beware 1\n",
      "Jabberwock, 2\n",
      "my 3\n",
      "son! 1\n",
      "The 4\n",
      "jaws 1\n",
      "that 2\n",
      "bite, 1\n",
      "claws 1\n",
      "catch! 1\n",
      "Beware 1\n",
      "Jubjub 1\n",
      "bird, 1\n",
      "shun 1\n",
      "frumious 1\n",
      "Bandersnatch!\" 1\n",
      "He 4\n",
      "took 1\n",
      "his 2\n",
      "vorpal 2\n",
      "sword 1\n",
      "hand: 1\n",
      "Long 1\n",
      "time 1\n",
      "manxome 1\n",
      "foe 1\n",
      "he 3\n",
      "sought-- 1\n",
      "So 1\n",
      "rested 1\n",
      "by 1\n",
      "Tumtum 1\n",
      "tree, 1\n",
      "stood 1\n",
      "awhile 1\n",
      "thought. 1\n",
      "as 2\n",
      "uffish 1\n",
      "thought 1\n",
      "stood, 1\n",
      "with 2\n",
      "eyes 1\n",
      "of 1\n",
      "flame, 1\n",
      "Came 1\n",
      "whiffling 1\n",
      "through 3\n",
      "tulgey 1\n",
      "wood, 1\n",
      "burbled 1\n",
      "it 2\n",
      "came! 1\n",
      "One, 2\n",
      "two! 2\n",
      "blade 1\n",
      "went 2\n",
      "snicker-snack! 1\n",
      "left 1\n",
      "dead, 1\n",
      "its 1\n",
      "head 1\n",
      "galumphing 1\n",
      "back. 1\n",
      "\"And 1\n",
      "hast 1\n",
      "thou 1\n",
      "slain 1\n",
      "Jabberwock? 1\n",
      "Come 1\n",
      "to 1\n",
      "arms, 1\n",
      "beamish 1\n",
      "boy! 1\n",
      "O 1\n",
      "frabjous 1\n",
      "day! 1\n",
      "Callooh! 1\n",
      "Callay!\" 1\n",
      "chortled 1\n",
      "joy. 1\n"
     ]
    }
   ],
   "source": [
    "# 10-1.py\n",
    "# 単語の頻度表を作る\n",
    "\n",
    "freq_dict = {}\n",
    "for line in open('jabberwocky.txt'):\n",
    "    line = line.rstrip()\n",
    "    words = line.split()\n",
    "    \n",
    "    for w in words:\n",
    "        if not w in freq_dict:\n",
    "            freq_dict[w] = 0\n",
    "        \n",
    "        freq_dict[w] += 1\n",
    "\n",
    "for w in freq_dict:\n",
    "    print(w, freq_dict[w])\n"
   ]
  },
  {
   "cell_type": "markdown",
   "metadata": {},
   "source": [
    "* 進んだ内容: ソートする基準を指定してソート (+ ラムダ式)"
   ]
  },
  {
   "cell_type": "markdown",
   "metadata": {},
   "source": [
    "## 11 正規表現"
   ]
  },
  {
   "cell_type": "markdown",
   "metadata": {},
   "source": [
    "正規表現は Python に限らずさまざまなソフトウェアから利用できます。複雑な条件で文字列を検索するときには必須です。名前の由来は、形式言語理論の正規言語 (regular language) と関係しています。"
   ]
  },
  {
   "cell_type": "markdown",
   "metadata": {
    "collapsed": true
   },
   "source": [
    "* ?\n",
    "* .\n",
    "* +\n",
    "* *\n",
    "* \\[\\]\n",
    "* |\n",
    "* ^ $"
   ]
  },
  {
   "cell_type": "markdown",
   "metadata": {
    "collapsed": true
   },
   "source": [
    "### Pythonで正規表現を扱う"
   ]
  },
  {
   "cell_type": "code",
   "execution_count": 9,
   "metadata": {},
   "outputs": [],
   "source": [
    "import re"
   ]
  },
  {
   "cell_type": "code",
   "execution_count": 10,
   "metadata": {},
   "outputs": [
    {
     "data": {
      "text/plain": [
       "'as early as'"
      ]
     },
     "execution_count": 10,
     "metadata": {},
     "output_type": "execute_result"
    }
   ],
   "source": [
    "sentence = 'let me know as early as possible'\n",
    "matched = re.search(r'as [a-z]+ as', sentence)\n",
    "matched.group(0)"
   ]
  },
  {
   "cell_type": "code",
   "execution_count": 18,
   "metadata": {},
   "outputs": [
    {
     "data": {
      "text/plain": [
       "'early'"
      ]
     },
     "execution_count": 18,
     "metadata": {},
     "output_type": "execute_result"
    }
   ],
   "source": [
    "sentence = 'let me know as early as possible'\n",
    "matched = re.search(r'as ([a-z]+) as', sentence)\n",
    "matched.group(1)"
   ]
  },
  {
   "cell_type": "code",
   "execution_count": 19,
   "metadata": {},
   "outputs": [
    {
     "name": "stdout",
     "output_type": "stream",
     "text": [
      "let\n",
      "me\n",
      "early\n",
      "possible\n"
     ]
    }
   ],
   "source": [
    "## eを含む単語のリストを正規表現で作る\n",
    "\n",
    "sentence = 'let me know as early as possible'\n",
    "e_words = re.findall(r'[a-z]*e[a-z]*', sentence)\n",
    "for e_word in e_words:\n",
    "    print(e_word)"
   ]
  },
  {
   "cell_type": "code",
   "execution_count": 31,
   "metadata": {},
   "outputs": [
    {
     "name": "stdout",
     "output_type": "stream",
     "text": [
      "The vorpal blade went snicker-snack!\n"
     ]
    }
   ],
   "source": [
    "## 11-1.py\n",
    "## jabberwocky.txt から比較級かもしれない箇所を探す\n",
    "import re\n",
    "\n",
    "for line in open('jabberwocky.txt'):\n",
    "    line = line.rstrip()\n",
    "    if re.search(r'er\\b', line) or \\\n",
    "       re.search(r'more [a-z]+', line):\n",
    "        print(line)"
   ]
  },
  {
   "cell_type": "markdown",
   "metadata": {},
   "source": [
    "## 12 ファイル操作"
   ]
  },
  {
   "cell_type": "markdown",
   "metadata": {
    "collapsed": true
   },
   "source": [
    "### コマンドライン引数を使う"
   ]
  },
  {
   "cell_type": "code",
   "execution_count": 21,
   "metadata": {},
   "outputs": [],
   "source": [
    "## 12-1.py\n",
    "## ファイル名をコマンドライン引数として受け取り、そのファイルの内容を表示する\n",
    "\n",
    "import sys\n",
    "filename = sys.argv[1]\n",
    "\n",
    "for line in open(filename):\n",
    "    line = line.rstrip()\n",
    "    print(line)"
   ]
  },
  {
   "cell_type": "markdown",
   "metadata": {
    "collapsed": true
   },
   "source": [
    "### ファイル名を指定して書き込む"
   ]
  },
  {
   "cell_type": "code",
   "execution_count": 14,
   "metadata": {},
   "outputs": [],
   "source": [
    "## 12-2.py\n",
    "## ファイル名を指定して書き込む\n",
    "\n",
    "OUT = open('akashatsu.txt', 'w')\n",
    "for line in open('botchan.txt'):\n",
    "    line = line.rstrip()\n",
    "    if '赤シャツ' in line:\n",
    "        print(line, file=OUT)\n",
    "\n",
    "OUT.close()"
   ]
  },
  {
   "cell_type": "markdown",
   "metadata": {},
   "source": [
    "### ファイル一覧を取得する"
   ]
  },
  {
   "cell_type": "code",
   "execution_count": 11,
   "metadata": {},
   "outputs": [
    {
     "data": {
      "text/plain": [
       "['jabberwocky.txt',\n",
       " 'python_bootcamp_sapporo_Feb2020.ipynb',\n",
       " 'huckleberry.txt',\n",
       " 'botchan_parsed.txt',\n",
       " 'cmu_dictionary.txt',\n",
       " 'ichiakuno_suna.txt',\n",
       " '.ipynb_checkpoints',\n",
       " 'botchan.txt']"
      ]
     },
     "execution_count": 11,
     "metadata": {},
     "output_type": "execute_result"
    }
   ],
   "source": [
    "import os\n",
    "os.listdir()"
   ]
  },
  {
   "cell_type": "code",
   "execution_count": 33,
   "metadata": {},
   "outputs": [
    {
     "name": "stdout",
     "output_type": "stream",
     "text": [
      "==========\n",
      "jabberwocky.txt\n",
      "==========\n",
      "==========\n",
      "akashatsu.txt\n",
      "==========\n",
      "==========\n",
      "huckleberry.txt\n",
      "==========\n",
      "which I couldn't see right well.  The old gentleman says:\n",
      "As soon as I was in the old gentleman he locked the door and barred it\n",
      "COL.  GRANGERFORD was a gentleman, you see.  He was a gentleman all over;\n",
      "dressed in white linen from head to foot, like the old gentleman, and\n",
      "The old gentleman owned a lot of farms and over a hundred niggers.\n",
      "we got home.  The old gentleman's eyes blazed a minute--'twas pleasure,\n",
      "when they all come riding in, two and two, a gentleman and lady, side by\n",
      "her hips and every gentleman folded his arms, and then how the horses did\n",
      "with them bags.  Jump out and he'p the gentleman, Adolphus\"--meaning me,\n",
      "THEY was fetching a very nice-looking old gentleman along, and a\n",
      "let him see they was on his side.  That old gentleman that had just come\n",
      "sharp-looking gentleman, with a carpet-bag of the old-fashioned kind made\n",
      "listened to all the old gentleman said, and was listening to the king\n",
      "the king tell his yarn, and they made the old gentleman tell his'n; and\n",
      "gentleman was spinning truth and t'other one lies.  And by and by they\n",
      "turns to the new old gentleman and says:\n",
      "The old gentleman wrote, but nobody couldn't read it.  The lawyer looked\n",
      "how the lawyer had took them in), \"and here's THIS old gentleman's hand\n",
      "The new old gentleman says:\n",
      "\"He CAN'T write with his left hand,\" says the old gentleman.  \"If he\n",
      "HIMSELF; but pretty soon the new gentleman broke in, and says:\n",
      "\"Perhaps this gentleman can tell me what was tattooed on his breast?\"\n",
      "The new old gentleman turns brisk towards Ab Turner and his pard, and his\n",
      "\"Good!\" says the old gentleman.  \"Now, what you DID see on his breast was\n",
      "I had just one little glimpse of the old gentleman when he come in; then\n",
      "\"I can't imagine,\" says the old gentleman; \"and I must say it makes me\n",
      "standing pretty meek and sweaty alongside.  The old gentleman stared, and\n",
      "the town and fetch down my baggage.  The old gentleman was for going\n",
      "quick for that length of a trip.  The old gentleman was at the door, and\n",
      "\"No, my boy,\" says the old gentleman, \"I'm sorry to say 't your driver\n",
      "somewheres, and fetched up on the old gentleman's, and says, \"Didn't YOU\n",
      "==========\n",
      "botchan_parsed.txt\n",
      "==========\n",
      "==========\n",
      "cmu_dictionary.txt\n",
      "==========\n",
      "==========\n",
      "ichiakuno_suna_kani.txt\n",
      "==========\n",
      "==========\n",
      "ichiakuno_suna.txt\n",
      "==========\n",
      "==========\n",
      "botchan.txt\n",
      "==========\n"
     ]
    }
   ],
   "source": [
    "## 12-3.py\n",
    "## すべての .txt ファイルから検索する\n",
    "\n",
    "for filename in os.listdir():\n",
    "    if not filename.endswith('.txt'):\n",
    "        continue\n",
    "        \n",
    "    print('==========')\n",
    "    print(filename)\n",
    "    print('==========')\n",
    "        \n",
    "    for line in open(filename):\n",
    "        if 'gentleman' in line:\n",
    "            line = line.rstrip()\n",
    "            print(line)\n"
   ]
  },
  {
   "cell_type": "markdown",
   "metadata": {},
   "source": [
    "* **練習** 「猫」という文字が出てくるファイルの名前だけを表示するプログラムを作ってください。"
   ]
  },
  {
   "cell_type": "markdown",
   "metadata": {
    "collapsed": true
   },
   "source": [
    "* 進んだ内容: パスの指定\n",
    "* 進んだ内容: 文字コードの指定"
   ]
  },
  {
   "cell_type": "markdown",
   "metadata": {},
   "source": [
    "## 13 関数"
   ]
  },
  {
   "cell_type": "markdown",
   "metadata": {
    "collapsed": true
   },
   "source": [
    "* くりかえし行う操作は、「関数」にまとめるとよい\n",
    "* くりかえし行わなくても「意味的なまとまり」は関数にしたほうがわかりやすくなる"
   ]
  },
  {
   "cell_type": "code",
   "execution_count": 10,
   "metadata": {},
   "outputs": [
    {
     "data": {
      "text/plain": [
       "6"
      ]
     },
     "execution_count": 10,
     "metadata": {},
     "output_type": "execute_result"
    }
   ],
   "source": [
    "# 関数の定義\n",
    "def add1(n):\n",
    "    return n + 1\n",
    "\n",
    "add1(5)"
   ]
  },
  {
   "cell_type": "code",
   "execution_count": 15,
   "metadata": {},
   "outputs": [],
   "source": [
    "def remove_punc(word):\n",
    "    \n",
    "    word = word.replace('.', '')\n",
    "    word = word.replace(',', '')\n",
    "    word = word.replace('?', '')\n",
    "    word = word.replace('!', '')\n",
    "    word = word.replace('\"', '')\n",
    "    word = word.replace(\"'\", '')\n",
    "    return word"
   ]
  },
  {
   "cell_type": "code",
   "execution_count": 16,
   "metadata": {},
   "outputs": [
    {
     "data": {
      "text/plain": [
       "'dog'"
      ]
     },
     "execution_count": 16,
     "metadata": {},
     "output_type": "execute_result"
    }
   ],
   "source": [
    "remove_punc('dog')"
   ]
  },
  {
   "cell_type": "code",
   "execution_count": 17,
   "metadata": {},
   "outputs": [
    {
     "data": {
      "text/plain": [
       "'him'"
      ]
     },
     "execution_count": 17,
     "metadata": {},
     "output_type": "execute_result"
    }
   ],
   "source": [
    "remove_punc('him,')"
   ]
  },
  {
   "cell_type": "code",
   "execution_count": 35,
   "metadata": {},
   "outputs": [
    {
     "name": "stdout",
     "output_type": "stream",
     "text": [
      "b.txt\tI\tし\tシ\tスル\t為る\t動詞-非自立可能\tサ行変格\t連用形-一般\tスル\t和\n",
      "\n",
      "b.txt\tI\tいる\tイル\tイル\t居る\t動詞-非自立可能\t上一段-ア行\t終止形-一般\tイル\t和\n",
      "\n",
      "b.txt\tI\t居る\tイル\tイル\t居る\t動詞-非自立可能\t上一段-ア行\t連体形-一般\tイル\t和\n",
      "\n",
      "b.txt\tI\t飛び降り\tトビオリ\tトビオリル\t飛び降りる\t動詞-一般\t上一段-ラ行\t連用形-一般\tトビオリル\t和\n",
      "\n",
      "b.txt\tI\t抜かし\tヌカシ\tヌカス\t抜かす\t動詞-一般\t五段-サ行\t連用形-一般\tヌカス\t和\n",
      "\n",
      "b.txt\tI\tある\tアル\tアル\t有る\t動詞-非自立可能\t五段-ラ行-一般\t終止形-一般\tアル\t和\n",
      "\n",
      "b.txt\tI\tし\tシ\tスル\t為る\t動詞-非自立可能\tサ行変格\t連用形-一般\tスル\t和\n",
      "\n",
      "b.txt\tI\t聞く\tキク\tキク\t聞く\t動詞-一般\t五段-カ行-一般\t連体形-一般\tキク\t和\n",
      "\n",
      "b.txt\tI\tある\tアル\tアル\t有る\t動詞-非自立可能\t五段-ラ行-一般\t終止形-一般\tアル\t和\n",
      "\n",
      "b.txt\tI\t知れ\tシレ\tシレル\t知れる\t動詞-一般\t下一段-ラ行-一般\t未然形-一般\tシレル\t和\n",
      "\n"
     ]
    }
   ],
   "source": [
    "# 13-1.py\n",
    "# 条件に合う単語を見つける。関数を用いて条件を指定する\n",
    "\n",
    "def is_verb(line):\n",
    "    cols = line.rstrip().split('\\t')\n",
    "    if len(cols) < 7:\n",
    "        return False\n",
    "    \n",
    "    pos_str = cols[6]\n",
    "    pos_list = pos_str.split('-')\n",
    "    \n",
    "    if pos_list[0] == '動詞':\n",
    "        return True\n",
    "    else:\n",
    "        return False\n",
    "\n",
    "counter = 0\n",
    "for line in open('botchan_parsed.txt'):\n",
    "    if is_verb(line):\n",
    "        print(line)\n",
    "        \n",
    "        ## 10行で中断\n",
    "        counter += 1\n",
    "        if counter == 10:\n",
    "            break"
   ]
  },
  {
   "cell_type": "markdown",
   "metadata": {},
   "source": [
    "* **練習** 『坊っちゃん』に含まれる動詞の頻度表を作ってください。"
   ]
  }
 ],
 "metadata": {
  "kernelspec": {
   "display_name": "Python 3",
   "language": "python",
   "name": "python3"
  },
  "language_info": {
   "codemirror_mode": {
    "name": "ipython",
    "version": 3
   },
   "file_extension": ".py",
   "mimetype": "text/x-python",
   "name": "python",
   "nbconvert_exporter": "python",
   "pygments_lexer": "ipython3",
   "version": "3.7.3"
  }
 },
 "nbformat": 4,
 "nbformat_minor": 1
}
